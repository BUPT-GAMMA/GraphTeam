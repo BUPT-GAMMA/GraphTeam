{
 "cells": [
  {
   "cell_type": "code",
   "execution_count": 1,
   "metadata": {},
   "outputs": [],
   "source": [
    "#将csv转换成json文件\n",
    "import json\n",
    "import pandas as pd\n",
    "\n",
    "\n",
    "def csv_to_json(csv_file, json_file):\n",
    "    df = pd.read_csv(csv_file)\n",
    "    json_data = df.to_json(orient='records')\n",
    "    json_data = json.loads(json_data)\n",
    "    with open(json_file, 'w') as f:\n",
    "        json.dump(json_data, f, indent=4)\n",
    "\n",
    "\n",
    "csv_to_json('benchmark.csv', 'benchmark.json')"
   ]
  }
 ],
 "metadata": {
  "kernelspec": {
   "display_name": "try",
   "language": "python",
   "name": "python3"
  },
  "language_info": {
   "codemirror_mode": {
    "name": "ipython",
    "version": 3
   },
   "file_extension": ".py",
   "mimetype": "text/x-python",
   "name": "python",
   "nbconvert_exporter": "python",
   "pygments_lexer": "ipython3",
   "version": "3.10.14"
  }
 },
 "nbformat": 4,
 "nbformat_minor": 2
}
